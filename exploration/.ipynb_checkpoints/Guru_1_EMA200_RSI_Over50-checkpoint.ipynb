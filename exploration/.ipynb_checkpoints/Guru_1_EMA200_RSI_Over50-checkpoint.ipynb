{
 "cells": [
  {
   "cell_type": "code",
   "execution_count": 1,
   "id": "aaa02eb4",
   "metadata": {},
   "outputs": [],
   "source": [
    "import sys\n",
    "sys.path.append(\"../\")"
   ]
  },
  {
   "cell_type": "code",
   "execution_count": 2,
   "id": "edd7644e",
   "metadata": {},
   "outputs": [],
   "source": [
    "import pandas as pd\n",
    "import plotly.graph_objects as go\n",
    "from technicals.indicators import RSI\n",
    "from technicals.patterns import apply_patterns\n",
    "from plotting import CandlePlot"
   ]
  },
  {
   "cell_type": "code",
   "execution_count": 3,
   "id": "0f50a278",
   "metadata": {},
   "outputs": [],
   "source": [
    "df_raw = pd.read_pickle(\"../data/GBP_JPY_H1.pkl\")"
   ]
  },
  {
   "cell_type": "code",
   "execution_count": 4,
   "id": "c6afa25f",
   "metadata": {},
   "outputs": [
    {
     "data": {
      "text/plain": [
       "(44061, 14)"
      ]
     },
     "execution_count": 4,
     "metadata": {},
     "output_type": "execute_result"
    }
   ],
   "source": [
    "df_raw.shape"
   ]
  },
  {
   "cell_type": "code",
   "execution_count": 5,
   "id": "e82ad396",
   "metadata": {},
   "outputs": [],
   "source": [
    "df_an = df_raw.iloc[-6000:].copy()\n",
    "df_an.reset_index(drop=True, inplace=True)"
   ]
  },
  {
   "cell_type": "code",
   "execution_count": 6,
   "id": "9fda3b8a",
   "metadata": {},
   "outputs": [
    {
     "data": {
      "text/plain": [
       "(6000, 14)"
      ]
     },
     "execution_count": 6,
     "metadata": {},
     "output_type": "execute_result"
    }
   ],
   "source": [
    "df_an.shape"
   ]
  },
  {
   "cell_type": "code",
   "execution_count": 7,
   "id": "ee318eaa",
   "metadata": {},
   "outputs": [],
   "source": [
    "df_an = RSI(df_an)"
   ]
  },
  {
   "cell_type": "code",
   "execution_count": 8,
   "id": "11e7ed92",
   "metadata": {},
   "outputs": [
    {
     "data": {
      "text/html": [
       "<div>\n",
       "<style scoped>\n",
       "    .dataframe tbody tr th:only-of-type {\n",
       "        vertical-align: middle;\n",
       "    }\n",
       "\n",
       "    .dataframe tbody tr th {\n",
       "        vertical-align: top;\n",
       "    }\n",
       "\n",
       "    .dataframe thead th {\n",
       "        text-align: right;\n",
       "    }\n",
       "</style>\n",
       "<table border=\"1\" class=\"dataframe\">\n",
       "  <thead>\n",
       "    <tr style=\"text-align: right;\">\n",
       "      <th></th>\n",
       "      <th>time</th>\n",
       "      <th>volume</th>\n",
       "      <th>mid_o</th>\n",
       "      <th>mid_h</th>\n",
       "      <th>mid_l</th>\n",
       "      <th>mid_c</th>\n",
       "      <th>bid_o</th>\n",
       "      <th>bid_h</th>\n",
       "      <th>bid_l</th>\n",
       "      <th>bid_c</th>\n",
       "      <th>ask_o</th>\n",
       "      <th>ask_h</th>\n",
       "      <th>ask_l</th>\n",
       "      <th>ask_c</th>\n",
       "      <th>RSI_14</th>\n",
       "    </tr>\n",
       "  </thead>\n",
       "  <tbody>\n",
       "    <tr>\n",
       "      <th>5995</th>\n",
       "      <td>2023-01-31 19:00:00+00:00</td>\n",
       "      <td>5505</td>\n",
       "      <td>160.485</td>\n",
       "      <td>160.560</td>\n",
       "      <td>160.396</td>\n",
       "      <td>160.408</td>\n",
       "      <td>160.470</td>\n",
       "      <td>160.546</td>\n",
       "      <td>160.383</td>\n",
       "      <td>160.393</td>\n",
       "      <td>160.500</td>\n",
       "      <td>160.574</td>\n",
       "      <td>160.410</td>\n",
       "      <td>160.424</td>\n",
       "      <td>44.506133</td>\n",
       "    </tr>\n",
       "    <tr>\n",
       "      <th>5996</th>\n",
       "      <td>2023-01-31 20:00:00+00:00</td>\n",
       "      <td>6999</td>\n",
       "      <td>160.406</td>\n",
       "      <td>160.476</td>\n",
       "      <td>160.324</td>\n",
       "      <td>160.434</td>\n",
       "      <td>160.392</td>\n",
       "      <td>160.462</td>\n",
       "      <td>160.310</td>\n",
       "      <td>160.419</td>\n",
       "      <td>160.421</td>\n",
       "      <td>160.491</td>\n",
       "      <td>160.338</td>\n",
       "      <td>160.449</td>\n",
       "      <td>45.250179</td>\n",
       "    </tr>\n",
       "    <tr>\n",
       "      <th>5997</th>\n",
       "      <td>2023-01-31 21:00:00+00:00</td>\n",
       "      <td>5431</td>\n",
       "      <td>160.434</td>\n",
       "      <td>160.490</td>\n",
       "      <td>160.238</td>\n",
       "      <td>160.274</td>\n",
       "      <td>160.420</td>\n",
       "      <td>160.476</td>\n",
       "      <td>160.224</td>\n",
       "      <td>160.252</td>\n",
       "      <td>160.448</td>\n",
       "      <td>160.505</td>\n",
       "      <td>160.251</td>\n",
       "      <td>160.297</td>\n",
       "      <td>41.557548</td>\n",
       "    </tr>\n",
       "    <tr>\n",
       "      <th>5998</th>\n",
       "      <td>2023-01-31 22:00:00+00:00</td>\n",
       "      <td>1303</td>\n",
       "      <td>160.297</td>\n",
       "      <td>160.375</td>\n",
       "      <td>160.204</td>\n",
       "      <td>160.233</td>\n",
       "      <td>160.222</td>\n",
       "      <td>160.300</td>\n",
       "      <td>160.148</td>\n",
       "      <td>160.182</td>\n",
       "      <td>160.372</td>\n",
       "      <td>160.450</td>\n",
       "      <td>160.253</td>\n",
       "      <td>160.284</td>\n",
       "      <td>40.642292</td>\n",
       "    </tr>\n",
       "    <tr>\n",
       "      <th>5999</th>\n",
       "      <td>2023-01-31 23:00:00+00:00</td>\n",
       "      <td>4780</td>\n",
       "      <td>160.228</td>\n",
       "      <td>160.245</td>\n",
       "      <td>160.101</td>\n",
       "      <td>160.148</td>\n",
       "      <td>160.178</td>\n",
       "      <td>160.213</td>\n",
       "      <td>160.082</td>\n",
       "      <td>160.133</td>\n",
       "      <td>160.279</td>\n",
       "      <td>160.293</td>\n",
       "      <td>160.120</td>\n",
       "      <td>160.164</td>\n",
       "      <td>38.737516</td>\n",
       "    </tr>\n",
       "  </tbody>\n",
       "</table>\n",
       "</div>"
      ],
      "text/plain": [
       "                          time  volume    mid_o    mid_h    mid_l    mid_c  \\\n",
       "5995 2023-01-31 19:00:00+00:00    5505  160.485  160.560  160.396  160.408   \n",
       "5996 2023-01-31 20:00:00+00:00    6999  160.406  160.476  160.324  160.434   \n",
       "5997 2023-01-31 21:00:00+00:00    5431  160.434  160.490  160.238  160.274   \n",
       "5998 2023-01-31 22:00:00+00:00    1303  160.297  160.375  160.204  160.233   \n",
       "5999 2023-01-31 23:00:00+00:00    4780  160.228  160.245  160.101  160.148   \n",
       "\n",
       "        bid_o    bid_h    bid_l    bid_c    ask_o    ask_h    ask_l    ask_c  \\\n",
       "5995  160.470  160.546  160.383  160.393  160.500  160.574  160.410  160.424   \n",
       "5996  160.392  160.462  160.310  160.419  160.421  160.491  160.338  160.449   \n",
       "5997  160.420  160.476  160.224  160.252  160.448  160.505  160.251  160.297   \n",
       "5998  160.222  160.300  160.148  160.182  160.372  160.450  160.253  160.284   \n",
       "5999  160.178  160.213  160.082  160.133  160.279  160.293  160.120  160.164   \n",
       "\n",
       "         RSI_14  \n",
       "5995  44.506133  \n",
       "5996  45.250179  \n",
       "5997  41.557548  \n",
       "5998  40.642292  \n",
       "5999  38.737516  "
      ]
     },
     "execution_count": 8,
     "metadata": {},
     "output_type": "execute_result"
    }
   ],
   "source": [
    "df_an.tail()"
   ]
  },
  {
   "cell_type": "code",
   "execution_count": 9,
   "id": "90164b24",
   "metadata": {},
   "outputs": [],
   "source": [
    "df_an = apply_patterns(df_an)"
   ]
  },
  {
   "cell_type": "code",
   "execution_count": 10,
   "id": "b75926c7",
   "metadata": {},
   "outputs": [],
   "source": [
    "df_an['EMA_200'] = df_an.mid_c.ewm(span=200, min_periods=200).mean()"
   ]
  },
  {
   "cell_type": "code",
   "execution_count": 11,
   "id": "553c3f1b",
   "metadata": {},
   "outputs": [
    {
     "data": {
      "text/plain": [
       "Index(['time', 'volume', 'mid_o', 'mid_h', 'mid_l', 'mid_c', 'bid_o', 'bid_h',\n",
       "       'bid_l', 'bid_c', 'ask_o', 'ask_h', 'ask_l', 'ask_c', 'RSI_14',\n",
       "       'body_lower', 'body_upper', 'body_bottom_perc', 'body_top_perc',\n",
       "       'body_perc', 'direction', 'body_size', 'low_change', 'high_change',\n",
       "       'body_size_change', 'mid_point', 'mid_point_prev_2', 'body_size_prev',\n",
       "       'direction_prev', 'direction_prev_2', 'body_perc_prev',\n",
       "       'body_perc_prev_2', 'HANGING_MAN', 'SHOOTING_STAR', 'SPINNING_TOP',\n",
       "       'MARUBOZU', 'ENGULFING', 'TWEEZER_TOP', 'TWEEZER_BOTTOM',\n",
       "       'MORNING_STAR', 'EVENING_STAR', 'EMA_200'],\n",
       "      dtype='object')"
      ]
     },
     "execution_count": 11,
     "metadata": {},
     "output_type": "execute_result"
    }
   ],
   "source": [
    "df_an.columns"
   ]
  },
  {
   "cell_type": "code",
   "execution_count": 12,
   "id": "30f73c44",
   "metadata": {},
   "outputs": [],
   "source": [
    "our_cols = ['time', 'mid_o', 'mid_h', 'mid_l', 'mid_c',\n",
    "            'ask_c', 'bid_c', 'ENGULFING', 'direction', 'EMA_200', 'RSI_14']"
   ]
  },
  {
   "cell_type": "code",
   "execution_count": 13,
   "id": "20c23b67",
   "metadata": {},
   "outputs": [],
   "source": [
    "df_slim = df_an[our_cols].copy()\n",
    "df_slim.dropna(inplace=True)\n",
    "df_slim.reset_index(drop=True, inplace=True)"
   ]
  },
  {
   "cell_type": "code",
   "execution_count": 14,
   "id": "d0c62d5f",
   "metadata": {},
   "outputs": [
    {
     "data": {
      "text/html": [
       "<div>\n",
       "<style scoped>\n",
       "    .dataframe tbody tr th:only-of-type {\n",
       "        vertical-align: middle;\n",
       "    }\n",
       "\n",
       "    .dataframe tbody tr th {\n",
       "        vertical-align: top;\n",
       "    }\n",
       "\n",
       "    .dataframe thead th {\n",
       "        text-align: right;\n",
       "    }\n",
       "</style>\n",
       "<table border=\"1\" class=\"dataframe\">\n",
       "  <thead>\n",
       "    <tr style=\"text-align: right;\">\n",
       "      <th></th>\n",
       "      <th>time</th>\n",
       "      <th>mid_o</th>\n",
       "      <th>mid_h</th>\n",
       "      <th>mid_l</th>\n",
       "      <th>mid_c</th>\n",
       "      <th>ask_c</th>\n",
       "      <th>bid_c</th>\n",
       "      <th>ENGULFING</th>\n",
       "      <th>direction</th>\n",
       "      <th>EMA_200</th>\n",
       "      <th>RSI_14</th>\n",
       "    </tr>\n",
       "  </thead>\n",
       "  <tbody>\n",
       "    <tr>\n",
       "      <th>0</th>\n",
       "      <td>2022-02-25 02:00:00+00:00</td>\n",
       "      <td>154.582</td>\n",
       "      <td>154.594</td>\n",
       "      <td>154.420</td>\n",
       "      <td>154.484</td>\n",
       "      <td>154.498</td>\n",
       "      <td>154.471</td>\n",
       "      <td>True</td>\n",
       "      <td>-1</td>\n",
       "      <td>155.825042</td>\n",
       "      <td>46.173324</td>\n",
       "    </tr>\n",
       "    <tr>\n",
       "      <th>1</th>\n",
       "      <td>2022-02-25 03:00:00+00:00</td>\n",
       "      <td>154.484</td>\n",
       "      <td>154.700</td>\n",
       "      <td>154.460</td>\n",
       "      <td>154.691</td>\n",
       "      <td>154.703</td>\n",
       "      <td>154.679</td>\n",
       "      <td>True</td>\n",
       "      <td>1</td>\n",
       "      <td>155.812012</td>\n",
       "      <td>51.397984</td>\n",
       "    </tr>\n",
       "    <tr>\n",
       "      <th>2</th>\n",
       "      <td>2022-02-25 04:00:00+00:00</td>\n",
       "      <td>154.685</td>\n",
       "      <td>154.800</td>\n",
       "      <td>154.632</td>\n",
       "      <td>154.709</td>\n",
       "      <td>154.723</td>\n",
       "      <td>154.695</td>\n",
       "      <td>False</td>\n",
       "      <td>1</td>\n",
       "      <td>155.799358</td>\n",
       "      <td>51.835780</td>\n",
       "    </tr>\n",
       "    <tr>\n",
       "      <th>3</th>\n",
       "      <td>2022-02-25 05:00:00+00:00</td>\n",
       "      <td>154.710</td>\n",
       "      <td>154.764</td>\n",
       "      <td>154.641</td>\n",
       "      <td>154.764</td>\n",
       "      <td>154.778</td>\n",
       "      <td>154.750</td>\n",
       "      <td>False</td>\n",
       "      <td>1</td>\n",
       "      <td>155.787499</td>\n",
       "      <td>53.222316</td>\n",
       "    </tr>\n",
       "    <tr>\n",
       "      <th>4</th>\n",
       "      <td>2022-02-25 06:00:00+00:00</td>\n",
       "      <td>154.764</td>\n",
       "      <td>154.798</td>\n",
       "      <td>154.598</td>\n",
       "      <td>154.601</td>\n",
       "      <td>154.614</td>\n",
       "      <td>154.588</td>\n",
       "      <td>True</td>\n",
       "      <td>-1</td>\n",
       "      <td>155.773928</td>\n",
       "      <td>48.743786</td>\n",
       "    </tr>\n",
       "  </tbody>\n",
       "</table>\n",
       "</div>"
      ],
      "text/plain": [
       "                       time    mid_o    mid_h    mid_l    mid_c    ask_c  \\\n",
       "0 2022-02-25 02:00:00+00:00  154.582  154.594  154.420  154.484  154.498   \n",
       "1 2022-02-25 03:00:00+00:00  154.484  154.700  154.460  154.691  154.703   \n",
       "2 2022-02-25 04:00:00+00:00  154.685  154.800  154.632  154.709  154.723   \n",
       "3 2022-02-25 05:00:00+00:00  154.710  154.764  154.641  154.764  154.778   \n",
       "4 2022-02-25 06:00:00+00:00  154.764  154.798  154.598  154.601  154.614   \n",
       "\n",
       "     bid_c  ENGULFING  direction     EMA_200     RSI_14  \n",
       "0  154.471       True         -1  155.825042  46.173324  \n",
       "1  154.679       True          1  155.812012  51.397984  \n",
       "2  154.695      False          1  155.799358  51.835780  \n",
       "3  154.750      False          1  155.787499  53.222316  \n",
       "4  154.588       True         -1  155.773928  48.743786  "
      ]
     },
     "execution_count": 14,
     "metadata": {},
     "output_type": "execute_result"
    }
   ],
   "source": [
    "df_slim.head()"
   ]
  },
  {
   "cell_type": "code",
   "execution_count": 15,
   "id": "d6895ca4",
   "metadata": {},
   "outputs": [],
   "source": [
    "BUY = 1\n",
    "SELL = -1\n",
    "NONE = 0\n",
    "RSI_LIMIT = 50.0\n",
    "\n",
    "def apply_signal(row):\n",
    "    if row.ENGULFING == True:\n",
    "        if row.direction == BUY and row.mid_l > row.EMA_200:\n",
    "            if row.RSI_14 > RSI_LIMIT:\n",
    "                return BUY\n",
    "        elif row.direction == SELL and row.mid_h < row.EMA_200:\n",
    "            if row.RSI_14 < RSI_LIMIT:\n",
    "                return SELL\n",
    "    return NONE"
   ]
  },
  {
   "cell_type": "code",
   "execution_count": 16,
   "id": "7fa4d9eb",
   "metadata": {},
   "outputs": [],
   "source": [
    "df_slim['SIGNAL'] = df_slim.apply(apply_signal, axis=1)"
   ]
  },
  {
   "cell_type": "code",
   "execution_count": 17,
   "id": "ad5bfa41",
   "metadata": {},
   "outputs": [
    {
     "data": {
      "text/plain": [
       " 0    5299\n",
       " 1     284\n",
       "-1     218\n",
       "Name: SIGNAL, dtype: int64"
      ]
     },
     "execution_count": 17,
     "metadata": {},
     "output_type": "execute_result"
    }
   ],
   "source": [
    "df_slim['SIGNAL'].value_counts()"
   ]
  },
  {
   "cell_type": "code",
   "execution_count": 18,
   "id": "d256141b",
   "metadata": {},
   "outputs": [],
   "source": [
    "LOSS_FACTOR = -1.0\n",
    "PROFIT_FACTOR = 1.5\n",
    "\n",
    "def apply_take_profit(row):\n",
    "    if row.SIGNAL != NONE:\n",
    "        return (row.mid_c - row.mid_o) * PROFIT_FACTOR + row.mid_c\n",
    "    else:\n",
    "        return 0.0\n",
    "    \n",
    "def apply_stop_loss(row):\n",
    "    if row.SIGNAL != NONE:\n",
    "        return row.mid_o\n",
    "    else:\n",
    "        return 0.0"
   ]
  },
  {
   "cell_type": "code",
   "execution_count": 19,
   "id": "0f60fa21",
   "metadata": {},
   "outputs": [],
   "source": [
    "df_slim['TP'] = df_slim.apply(apply_take_profit, axis=1)\n",
    "df_slim['SL'] = df_slim.apply(apply_stop_loss, axis=1)"
   ]
  },
  {
   "cell_type": "code",
   "execution_count": 20,
   "id": "6bab70be",
   "metadata": {},
   "outputs": [
    {
     "data": {
      "text/html": [
       "<div>\n",
       "<style scoped>\n",
       "    .dataframe tbody tr th:only-of-type {\n",
       "        vertical-align: middle;\n",
       "    }\n",
       "\n",
       "    .dataframe tbody tr th {\n",
       "        vertical-align: top;\n",
       "    }\n",
       "\n",
       "    .dataframe thead th {\n",
       "        text-align: right;\n",
       "    }\n",
       "</style>\n",
       "<table border=\"1\" class=\"dataframe\">\n",
       "  <thead>\n",
       "    <tr style=\"text-align: right;\">\n",
       "      <th></th>\n",
       "      <th>time</th>\n",
       "      <th>mid_o</th>\n",
       "      <th>mid_h</th>\n",
       "      <th>mid_l</th>\n",
       "      <th>mid_c</th>\n",
       "      <th>ask_c</th>\n",
       "      <th>bid_c</th>\n",
       "      <th>ENGULFING</th>\n",
       "      <th>direction</th>\n",
       "      <th>EMA_200</th>\n",
       "      <th>RSI_14</th>\n",
       "      <th>SIGNAL</th>\n",
       "      <th>TP</th>\n",
       "      <th>SL</th>\n",
       "    </tr>\n",
       "  </thead>\n",
       "  <tbody>\n",
       "    <tr>\n",
       "      <th>98</th>\n",
       "      <td>2022-03-03 04:00:00+00:00</td>\n",
       "      <td>154.862</td>\n",
       "      <td>155.074</td>\n",
       "      <td>154.862</td>\n",
       "      <td>155.052</td>\n",
       "      <td>155.064</td>\n",
       "      <td>155.040</td>\n",
       "      <td>True</td>\n",
       "      <td>1</td>\n",
       "      <td>154.720248</td>\n",
       "      <td>73.621256</td>\n",
       "      <td>1</td>\n",
       "      <td>155.3370</td>\n",
       "      <td>154.862</td>\n",
       "    </tr>\n",
       "    <tr>\n",
       "      <th>261</th>\n",
       "      <td>2022-03-13 22:00:00+00:00</td>\n",
       "      <td>153.004</td>\n",
       "      <td>153.328</td>\n",
       "      <td>152.931</td>\n",
       "      <td>153.242</td>\n",
       "      <td>153.262</td>\n",
       "      <td>153.222</td>\n",
       "      <td>True</td>\n",
       "      <td>1</td>\n",
       "      <td>152.891431</td>\n",
       "      <td>62.230581</td>\n",
       "      <td>1</td>\n",
       "      <td>153.5990</td>\n",
       "      <td>153.004</td>\n",
       "    </tr>\n",
       "    <tr>\n",
       "      <th>264</th>\n",
       "      <td>2022-03-14 01:00:00+00:00</td>\n",
       "      <td>153.331</td>\n",
       "      <td>153.454</td>\n",
       "      <td>153.252</td>\n",
       "      <td>153.390</td>\n",
       "      <td>153.404</td>\n",
       "      <td>153.376</td>\n",
       "      <td>True</td>\n",
       "      <td>1</td>\n",
       "      <td>152.905604</td>\n",
       "      <td>64.500551</td>\n",
       "      <td>1</td>\n",
       "      <td>153.4785</td>\n",
       "      <td>153.331</td>\n",
       "    </tr>\n",
       "    <tr>\n",
       "      <th>268</th>\n",
       "      <td>2022-03-14 05:00:00+00:00</td>\n",
       "      <td>153.206</td>\n",
       "      <td>153.382</td>\n",
       "      <td>153.206</td>\n",
       "      <td>153.369</td>\n",
       "      <td>153.383</td>\n",
       "      <td>153.355</td>\n",
       "      <td>True</td>\n",
       "      <td>1</td>\n",
       "      <td>152.921823</td>\n",
       "      <td>61.519961</td>\n",
       "      <td>1</td>\n",
       "      <td>153.6135</td>\n",
       "      <td>153.206</td>\n",
       "    </tr>\n",
       "    <tr>\n",
       "      <th>275</th>\n",
       "      <td>2022-03-14 12:00:00+00:00</td>\n",
       "      <td>153.612</td>\n",
       "      <td>154.193</td>\n",
       "      <td>153.612</td>\n",
       "      <td>154.065</td>\n",
       "      <td>154.077</td>\n",
       "      <td>154.053</td>\n",
       "      <td>True</td>\n",
       "      <td>1</td>\n",
       "      <td>152.975344</td>\n",
       "      <td>68.924639</td>\n",
       "      <td>1</td>\n",
       "      <td>154.7445</td>\n",
       "      <td>153.612</td>\n",
       "    </tr>\n",
       "  </tbody>\n",
       "</table>\n",
       "</div>"
      ],
      "text/plain": [
       "                         time    mid_o    mid_h    mid_l    mid_c    ask_c  \\\n",
       "98  2022-03-03 04:00:00+00:00  154.862  155.074  154.862  155.052  155.064   \n",
       "261 2022-03-13 22:00:00+00:00  153.004  153.328  152.931  153.242  153.262   \n",
       "264 2022-03-14 01:00:00+00:00  153.331  153.454  153.252  153.390  153.404   \n",
       "268 2022-03-14 05:00:00+00:00  153.206  153.382  153.206  153.369  153.383   \n",
       "275 2022-03-14 12:00:00+00:00  153.612  154.193  153.612  154.065  154.077   \n",
       "\n",
       "       bid_c  ENGULFING  direction     EMA_200     RSI_14  SIGNAL        TP  \\\n",
       "98   155.040       True          1  154.720248  73.621256       1  155.3370   \n",
       "261  153.222       True          1  152.891431  62.230581       1  153.5990   \n",
       "264  153.376       True          1  152.905604  64.500551       1  153.4785   \n",
       "268  153.355       True          1  152.921823  61.519961       1  153.6135   \n",
       "275  154.053       True          1  152.975344  68.924639       1  154.7445   \n",
       "\n",
       "          SL  \n",
       "98   154.862  \n",
       "261  153.004  \n",
       "264  153.331  \n",
       "268  153.206  \n",
       "275  153.612  "
      ]
     },
     "execution_count": 20,
     "metadata": {},
     "output_type": "execute_result"
    }
   ],
   "source": [
    "df_slim[df_slim.SIGNAL == BUY].head()"
   ]
  },
  {
   "cell_type": "code",
   "execution_count": 29,
   "id": "34215e2d",
   "metadata": {},
   "outputs": [
    {
     "data": {
      "application/vnd.plotly.v1+json": {
       "config": {
        "plotlyServerURL": "https://plot.ly"
       },
       "data": [
        {
         "close": [
          167.571,
          167.474,
          167.265,
          166.986,
          166.6,
          165.854,
          165.3,
          165.295,
          165.262,
          165.822,
          165.508,
          165.444,
          165.305,
          164.873,
          165.454,
          165.451,
          164.974,
          164.907,
          164.894,
          165.102,
          164.973,
          165.176,
          164.988,
          165.088,
          164.554,
          164.284,
          164.377,
          164.51,
          164.443,
          163.068,
          163.452,
          163.32,
          163.182,
          162.894,
          163.416,
          163.244,
          162.542,
          162.554,
          162.151,
          162.556
         ],
         "decreasing": {
          "fillcolor": "#CC2E3C",
          "line": {
           "color": "#FF3A4C"
          }
         },
         "high": [
          167.593,
          167.569,
          167.493,
          167.333,
          167.004,
          166.614,
          165.907,
          165.57,
          165.69,
          165.825,
          165.837,
          165.574,
          165.524,
          165.306,
          165.818,
          165.519,
          165.45,
          165.13,
          165.054,
          165.151,
          165.143,
          165.33,
          165.225,
          165.186,
          165.164,
          164.62,
          164.562,
          164.526,
          164.683,
          164.529,
          163.52,
          163.792,
          163.336,
          163.236,
          163.763,
          163.434,
          163.319,
          162.996,
          162.682,
          162.685
         ],
         "increasing": {
          "fillcolor": "#24A06B",
          "line": {
           "color": "#2EC886"
          }
         },
         "line": {
          "width": 1
         },
         "low": [
          167.382,
          167.394,
          167.087,
          166.863,
          166.6,
          165.834,
          165.19,
          165.254,
          165.211,
          165.252,
          165.438,
          165.336,
          164.932,
          164.804,
          164.86,
          165.34,
          164.933,
          164.892,
          164.828,
          164.855,
          164.904,
          164.979,
          164.972,
          164.812,
          164.397,
          164.106,
          164.283,
          164.254,
          164.437,
          163.009,
          163.034,
          163.086,
          162.984,
          162.861,
          162.888,
          163.16,
          162.459,
          162.43,
          162.058,
          162.094
         ],
         "opacity": 1,
         "open": [
          167.51,
          167.569,
          167.472,
          167.268,
          166.986,
          166.6,
          165.854,
          165.302,
          165.294,
          165.262,
          165.82,
          165.506,
          165.444,
          165.306,
          164.872,
          165.454,
          165.448,
          164.973,
          164.908,
          164.892,
          165.025,
          164.979,
          165.175,
          164.988,
          165.09,
          164.554,
          164.284,
          164.38,
          164.51,
          164.442,
          163.07,
          163.452,
          163.32,
          163.181,
          162.892,
          163.416,
          163.243,
          162.541,
          162.554,
          162.152
         ],
         "type": "candlestick",
         "x": [
          "s22-04-22 01:00",
          "s22-04-22 02:00",
          "s22-04-22 03:00",
          "s22-04-22 04:00",
          "s22-04-22 05:00",
          "s22-04-22 06:00",
          "s22-04-22 07:00",
          "s22-04-22 08:00",
          "s22-04-22 09:00",
          "s22-04-22 10:00",
          "s22-04-22 11:00",
          "s22-04-22 12:00",
          "s22-04-22 13:00",
          "s22-04-22 14:00",
          "s22-04-22 15:00",
          "s22-04-22 16:00",
          "s22-04-22 17:00",
          "s22-04-22 18:00",
          "s22-04-22 19:00",
          "s22-04-22 20:00",
          "s22-04-24 21:00",
          "s22-04-24 22:00",
          "s22-04-24 23:00",
          "s22-04-25 00:00",
          "s22-04-25 01:00",
          "s22-04-25 02:00",
          "s22-04-25 03:00",
          "s22-04-25 04:00",
          "s22-04-25 05:00",
          "s22-04-25 06:00",
          "s22-04-25 07:00",
          "s22-04-25 08:00",
          "s22-04-25 09:00",
          "s22-04-25 10:00",
          "s22-04-25 11:00",
          "s22-04-25 12:00",
          "s22-04-25 13:00",
          "s22-04-25 14:00",
          "s22-04-25 15:00",
          "s22-04-25 16:00"
         ]
        },
        {
         "marker": {
          "color": "#0000FF",
          "size": 12
         },
         "mode": "markers",
         "type": "scatter",
         "x": [
          "s22-04-25 01:00",
          "s22-04-25 15:00"
         ],
         "y": [
          164.554,
          162.151
         ]
        },
        {
         "marker": {
          "color": "#00FF00",
          "size": 12
         },
         "mode": "markers",
         "type": "scatter",
         "x": [
          "s22-04-25 01:00",
          "s22-04-25 15:00"
         ],
         "y": [
          163.75,
          161.54650000000004
         ]
        },
        {
         "marker": {
          "color": "#FF0000",
          "size": 12
         },
         "mode": "markers",
         "type": "scatter",
         "x": [
          "s22-04-25 01:00",
          "s22-04-25 15:00"
         ],
         "y": [
          165.09,
          162.554
         ]
        },
        {
         "line": {
          "shape": "spline",
          "width": 2
         },
         "name": "EMA_200",
         "type": "scatter",
         "x": [
          "s22-04-22 01:00",
          "s22-04-22 02:00",
          "s22-04-22 03:00",
          "s22-04-22 04:00",
          "s22-04-22 05:00",
          "s22-04-22 06:00",
          "s22-04-22 07:00",
          "s22-04-22 08:00",
          "s22-04-22 09:00",
          "s22-04-22 10:00",
          "s22-04-22 11:00",
          "s22-04-22 12:00",
          "s22-04-22 13:00",
          "s22-04-22 14:00",
          "s22-04-22 15:00",
          "s22-04-22 16:00",
          "s22-04-22 17:00",
          "s22-04-22 18:00",
          "s22-04-22 19:00",
          "s22-04-22 20:00",
          "s22-04-24 21:00",
          "s22-04-24 22:00",
          "s22-04-24 23:00",
          "s22-04-25 00:00",
          "s22-04-25 01:00",
          "s22-04-25 02:00",
          "s22-04-25 03:00",
          "s22-04-25 04:00",
          "s22-04-25 05:00",
          "s22-04-25 06:00",
          "s22-04-25 07:00",
          "s22-04-25 08:00",
          "s22-04-25 09:00",
          "s22-04-25 10:00",
          "s22-04-25 11:00",
          "s22-04-25 12:00",
          "s22-04-25 13:00",
          "s22-04-25 14:00",
          "s22-04-25 15:00",
          "s22-04-25 16:00"
         ],
         "xaxis": "x",
         "y": [
          165.5765159194258,
          165.5953965293612,
          165.61200964846586,
          165.62568131585255,
          165.63537611449837,
          165.63755149550857,
          165.6341927451693,
          165.63081766413652,
          165.62714780558366,
          165.62908664962924,
          165.62788179735256,
          165.62605211270454,
          165.62285753835138,
          165.61539620926493,
          165.61379026403853,
          165.61217044763828,
          165.60582044334149,
          165.5988669523275,
          165.59185329711943,
          165.58697909801631,
          165.58086980741695,
          165.57684122219027,
          165.57098206245607,
          165.5661762357936,
          165.5561047578511,
          165.54344690871667,
          165.53184038979276,
          165.52167275258716,
          165.51093961602504,
          165.48663159244546,
          165.4663863645137,
          165.44502914269293,
          165.42251128991785,
          165.39735180782284,
          165.37763673585016,
          165.35640638245488,
          165.32840215978027,
          165.3007959933743,
          165.26945454326983,
          165.24245482803312
         ],
         "yaxis": "y"
        },
        {
         "line": {
          "shape": "spline",
          "width": 2
         },
         "name": "RSI_14",
         "type": "scatter",
         "x": [
          "s22-04-22 01:00",
          "s22-04-22 02:00",
          "s22-04-22 03:00",
          "s22-04-22 04:00",
          "s22-04-22 05:00",
          "s22-04-22 06:00",
          "s22-04-22 07:00",
          "s22-04-22 08:00",
          "s22-04-22 09:00",
          "s22-04-22 10:00",
          "s22-04-22 11:00",
          "s22-04-22 12:00",
          "s22-04-22 13:00",
          "s22-04-22 14:00",
          "s22-04-22 15:00",
          "s22-04-22 16:00",
          "s22-04-22 17:00",
          "s22-04-22 18:00",
          "s22-04-22 19:00",
          "s22-04-22 20:00",
          "s22-04-24 21:00",
          "s22-04-24 22:00",
          "s22-04-24 23:00",
          "s22-04-25 00:00",
          "s22-04-25 01:00",
          "s22-04-25 02:00",
          "s22-04-25 03:00",
          "s22-04-25 04:00",
          "s22-04-25 05:00",
          "s22-04-25 06:00",
          "s22-04-25 07:00",
          "s22-04-25 08:00",
          "s22-04-25 09:00",
          "s22-04-25 10:00",
          "s22-04-25 11:00",
          "s22-04-25 12:00",
          "s22-04-25 13:00",
          "s22-04-25 14:00",
          "s22-04-25 15:00",
          "s22-04-25 16:00"
         ],
         "xaxis": "x",
         "y": [
          55.805483041934906,
          53.28246888558108,
          48.223512965099786,
          42.43175797983559,
          35.99130120801698,
          27.35090660415331,
          22.945472966261477,
          22.90960725036716,
          22.657879914497173,
          35.59136586321526,
          32.327051865353326,
          31.68909384408731,
          30.29092983977675,
          26.393338872128,
          37.9560609398989,
          37.92293450415818,
          32.992446526825404,
          32.35611211925806,
          32.22623468997058,
          36.61052376788319,
          35.09422667350853,
          39.35111440787161,
          36.93512546983845,
          39.07772427081791,
          32.69063952368231,
          30.019005840742366,
          32.07805849573255,
          35.02250510932937,
          34.21776965316097,
          22.69338423066253,
          29.803768664311505,
          28.822396142660168,
          27.792072919043193,
          25.725259576977038,
          35.14021975299134,
          33.62764640378428,
          28.27770029979665,
          28.487143313789346,
          25.765910778831,
          32.72140984775636
         ],
         "yaxis": "y2"
        }
       ],
       "layout": {
        "font": {
         "color": "#e1e1e1",
         "size": 8
        },
        "height": 400,
        "margin": {
         "b": 10,
         "l": 10,
         "r": 10,
         "t": 10
        },
        "paper_bgcolor": "#2c303c",
        "plot_bgcolor": "#2c303c",
        "template": {
         "data": {
          "bar": [
           {
            "error_x": {
             "color": "#2a3f5f"
            },
            "error_y": {
             "color": "#2a3f5f"
            },
            "marker": {
             "line": {
              "color": "#E5ECF6",
              "width": 0.5
             },
             "pattern": {
              "fillmode": "overlay",
              "size": 10,
              "solidity": 0.2
             }
            },
            "type": "bar"
           }
          ],
          "barpolar": [
           {
            "marker": {
             "line": {
              "color": "#E5ECF6",
              "width": 0.5
             },
             "pattern": {
              "fillmode": "overlay",
              "size": 10,
              "solidity": 0.2
             }
            },
            "type": "barpolar"
           }
          ],
          "carpet": [
           {
            "aaxis": {
             "endlinecolor": "#2a3f5f",
             "gridcolor": "white",
             "linecolor": "white",
             "minorgridcolor": "white",
             "startlinecolor": "#2a3f5f"
            },
            "baxis": {
             "endlinecolor": "#2a3f5f",
             "gridcolor": "white",
             "linecolor": "white",
             "minorgridcolor": "white",
             "startlinecolor": "#2a3f5f"
            },
            "type": "carpet"
           }
          ],
          "choropleth": [
           {
            "colorbar": {
             "outlinewidth": 0,
             "ticks": ""
            },
            "type": "choropleth"
           }
          ],
          "contour": [
           {
            "colorbar": {
             "outlinewidth": 0,
             "ticks": ""
            },
            "colorscale": [
             [
              0,
              "#0d0887"
             ],
             [
              0.1111111111111111,
              "#46039f"
             ],
             [
              0.2222222222222222,
              "#7201a8"
             ],
             [
              0.3333333333333333,
              "#9c179e"
             ],
             [
              0.4444444444444444,
              "#bd3786"
             ],
             [
              0.5555555555555556,
              "#d8576b"
             ],
             [
              0.6666666666666666,
              "#ed7953"
             ],
             [
              0.7777777777777778,
              "#fb9f3a"
             ],
             [
              0.8888888888888888,
              "#fdca26"
             ],
             [
              1,
              "#f0f921"
             ]
            ],
            "type": "contour"
           }
          ],
          "contourcarpet": [
           {
            "colorbar": {
             "outlinewidth": 0,
             "ticks": ""
            },
            "type": "contourcarpet"
           }
          ],
          "heatmap": [
           {
            "colorbar": {
             "outlinewidth": 0,
             "ticks": ""
            },
            "colorscale": [
             [
              0,
              "#0d0887"
             ],
             [
              0.1111111111111111,
              "#46039f"
             ],
             [
              0.2222222222222222,
              "#7201a8"
             ],
             [
              0.3333333333333333,
              "#9c179e"
             ],
             [
              0.4444444444444444,
              "#bd3786"
             ],
             [
              0.5555555555555556,
              "#d8576b"
             ],
             [
              0.6666666666666666,
              "#ed7953"
             ],
             [
              0.7777777777777778,
              "#fb9f3a"
             ],
             [
              0.8888888888888888,
              "#fdca26"
             ],
             [
              1,
              "#f0f921"
             ]
            ],
            "type": "heatmap"
           }
          ],
          "heatmapgl": [
           {
            "colorbar": {
             "outlinewidth": 0,
             "ticks": ""
            },
            "colorscale": [
             [
              0,
              "#0d0887"
             ],
             [
              0.1111111111111111,
              "#46039f"
             ],
             [
              0.2222222222222222,
              "#7201a8"
             ],
             [
              0.3333333333333333,
              "#9c179e"
             ],
             [
              0.4444444444444444,
              "#bd3786"
             ],
             [
              0.5555555555555556,
              "#d8576b"
             ],
             [
              0.6666666666666666,
              "#ed7953"
             ],
             [
              0.7777777777777778,
              "#fb9f3a"
             ],
             [
              0.8888888888888888,
              "#fdca26"
             ],
             [
              1,
              "#f0f921"
             ]
            ],
            "type": "heatmapgl"
           }
          ],
          "histogram": [
           {
            "marker": {
             "pattern": {
              "fillmode": "overlay",
              "size": 10,
              "solidity": 0.2
             }
            },
            "type": "histogram"
           }
          ],
          "histogram2d": [
           {
            "colorbar": {
             "outlinewidth": 0,
             "ticks": ""
            },
            "colorscale": [
             [
              0,
              "#0d0887"
             ],
             [
              0.1111111111111111,
              "#46039f"
             ],
             [
              0.2222222222222222,
              "#7201a8"
             ],
             [
              0.3333333333333333,
              "#9c179e"
             ],
             [
              0.4444444444444444,
              "#bd3786"
             ],
             [
              0.5555555555555556,
              "#d8576b"
             ],
             [
              0.6666666666666666,
              "#ed7953"
             ],
             [
              0.7777777777777778,
              "#fb9f3a"
             ],
             [
              0.8888888888888888,
              "#fdca26"
             ],
             [
              1,
              "#f0f921"
             ]
            ],
            "type": "histogram2d"
           }
          ],
          "histogram2dcontour": [
           {
            "colorbar": {
             "outlinewidth": 0,
             "ticks": ""
            },
            "colorscale": [
             [
              0,
              "#0d0887"
             ],
             [
              0.1111111111111111,
              "#46039f"
             ],
             [
              0.2222222222222222,
              "#7201a8"
             ],
             [
              0.3333333333333333,
              "#9c179e"
             ],
             [
              0.4444444444444444,
              "#bd3786"
             ],
             [
              0.5555555555555556,
              "#d8576b"
             ],
             [
              0.6666666666666666,
              "#ed7953"
             ],
             [
              0.7777777777777778,
              "#fb9f3a"
             ],
             [
              0.8888888888888888,
              "#fdca26"
             ],
             [
              1,
              "#f0f921"
             ]
            ],
            "type": "histogram2dcontour"
           }
          ],
          "mesh3d": [
           {
            "colorbar": {
             "outlinewidth": 0,
             "ticks": ""
            },
            "type": "mesh3d"
           }
          ],
          "parcoords": [
           {
            "line": {
             "colorbar": {
              "outlinewidth": 0,
              "ticks": ""
             }
            },
            "type": "parcoords"
           }
          ],
          "pie": [
           {
            "automargin": true,
            "type": "pie"
           }
          ],
          "scatter": [
           {
            "fillpattern": {
             "fillmode": "overlay",
             "size": 10,
             "solidity": 0.2
            },
            "type": "scatter"
           }
          ],
          "scatter3d": [
           {
            "line": {
             "colorbar": {
              "outlinewidth": 0,
              "ticks": ""
             }
            },
            "marker": {
             "colorbar": {
              "outlinewidth": 0,
              "ticks": ""
             }
            },
            "type": "scatter3d"
           }
          ],
          "scattercarpet": [
           {
            "marker": {
             "colorbar": {
              "outlinewidth": 0,
              "ticks": ""
             }
            },
            "type": "scattercarpet"
           }
          ],
          "scattergeo": [
           {
            "marker": {
             "colorbar": {
              "outlinewidth": 0,
              "ticks": ""
             }
            },
            "type": "scattergeo"
           }
          ],
          "scattergl": [
           {
            "marker": {
             "colorbar": {
              "outlinewidth": 0,
              "ticks": ""
             }
            },
            "type": "scattergl"
           }
          ],
          "scattermapbox": [
           {
            "marker": {
             "colorbar": {
              "outlinewidth": 0,
              "ticks": ""
             }
            },
            "type": "scattermapbox"
           }
          ],
          "scatterpolar": [
           {
            "marker": {
             "colorbar": {
              "outlinewidth": 0,
              "ticks": ""
             }
            },
            "type": "scatterpolar"
           }
          ],
          "scatterpolargl": [
           {
            "marker": {
             "colorbar": {
              "outlinewidth": 0,
              "ticks": ""
             }
            },
            "type": "scatterpolargl"
           }
          ],
          "scatterternary": [
           {
            "marker": {
             "colorbar": {
              "outlinewidth": 0,
              "ticks": ""
             }
            },
            "type": "scatterternary"
           }
          ],
          "surface": [
           {
            "colorbar": {
             "outlinewidth": 0,
             "ticks": ""
            },
            "colorscale": [
             [
              0,
              "#0d0887"
             ],
             [
              0.1111111111111111,
              "#46039f"
             ],
             [
              0.2222222222222222,
              "#7201a8"
             ],
             [
              0.3333333333333333,
              "#9c179e"
             ],
             [
              0.4444444444444444,
              "#bd3786"
             ],
             [
              0.5555555555555556,
              "#d8576b"
             ],
             [
              0.6666666666666666,
              "#ed7953"
             ],
             [
              0.7777777777777778,
              "#fb9f3a"
             ],
             [
              0.8888888888888888,
              "#fdca26"
             ],
             [
              1,
              "#f0f921"
             ]
            ],
            "type": "surface"
           }
          ],
          "table": [
           {
            "cells": {
             "fill": {
              "color": "#EBF0F8"
             },
             "line": {
              "color": "white"
             }
            },
            "header": {
             "fill": {
              "color": "#C8D4E3"
             },
             "line": {
              "color": "white"
             }
            },
            "type": "table"
           }
          ]
         },
         "layout": {
          "annotationdefaults": {
           "arrowcolor": "#2a3f5f",
           "arrowhead": 0,
           "arrowwidth": 1
          },
          "autotypenumbers": "strict",
          "coloraxis": {
           "colorbar": {
            "outlinewidth": 0,
            "ticks": ""
           }
          },
          "colorscale": {
           "diverging": [
            [
             0,
             "#8e0152"
            ],
            [
             0.1,
             "#c51b7d"
            ],
            [
             0.2,
             "#de77ae"
            ],
            [
             0.3,
             "#f1b6da"
            ],
            [
             0.4,
             "#fde0ef"
            ],
            [
             0.5,
             "#f7f7f7"
            ],
            [
             0.6,
             "#e6f5d0"
            ],
            [
             0.7,
             "#b8e186"
            ],
            [
             0.8,
             "#7fbc41"
            ],
            [
             0.9,
             "#4d9221"
            ],
            [
             1,
             "#276419"
            ]
           ],
           "sequential": [
            [
             0,
             "#0d0887"
            ],
            [
             0.1111111111111111,
             "#46039f"
            ],
            [
             0.2222222222222222,
             "#7201a8"
            ],
            [
             0.3333333333333333,
             "#9c179e"
            ],
            [
             0.4444444444444444,
             "#bd3786"
            ],
            [
             0.5555555555555556,
             "#d8576b"
            ],
            [
             0.6666666666666666,
             "#ed7953"
            ],
            [
             0.7777777777777778,
             "#fb9f3a"
            ],
            [
             0.8888888888888888,
             "#fdca26"
            ],
            [
             1,
             "#f0f921"
            ]
           ],
           "sequentialminus": [
            [
             0,
             "#0d0887"
            ],
            [
             0.1111111111111111,
             "#46039f"
            ],
            [
             0.2222222222222222,
             "#7201a8"
            ],
            [
             0.3333333333333333,
             "#9c179e"
            ],
            [
             0.4444444444444444,
             "#bd3786"
            ],
            [
             0.5555555555555556,
             "#d8576b"
            ],
            [
             0.6666666666666666,
             "#ed7953"
            ],
            [
             0.7777777777777778,
             "#fb9f3a"
            ],
            [
             0.8888888888888888,
             "#fdca26"
            ],
            [
             1,
             "#f0f921"
            ]
           ]
          },
          "colorway": [
           "#636efa",
           "#EF553B",
           "#00cc96",
           "#ab63fa",
           "#FFA15A",
           "#19d3f3",
           "#FF6692",
           "#B6E880",
           "#FF97FF",
           "#FECB52"
          ],
          "font": {
           "color": "#2a3f5f"
          },
          "geo": {
           "bgcolor": "white",
           "lakecolor": "white",
           "landcolor": "#E5ECF6",
           "showlakes": true,
           "showland": true,
           "subunitcolor": "white"
          },
          "hoverlabel": {
           "align": "left"
          },
          "hovermode": "closest",
          "mapbox": {
           "style": "light"
          },
          "paper_bgcolor": "white",
          "plot_bgcolor": "#E5ECF6",
          "polar": {
           "angularaxis": {
            "gridcolor": "white",
            "linecolor": "white",
            "ticks": ""
           },
           "bgcolor": "#E5ECF6",
           "radialaxis": {
            "gridcolor": "white",
            "linecolor": "white",
            "ticks": ""
           }
          },
          "scene": {
           "xaxis": {
            "backgroundcolor": "#E5ECF6",
            "gridcolor": "white",
            "gridwidth": 2,
            "linecolor": "white",
            "showbackground": true,
            "ticks": "",
            "zerolinecolor": "white"
           },
           "yaxis": {
            "backgroundcolor": "#E5ECF6",
            "gridcolor": "white",
            "gridwidth": 2,
            "linecolor": "white",
            "showbackground": true,
            "ticks": "",
            "zerolinecolor": "white"
           },
           "zaxis": {
            "backgroundcolor": "#E5ECF6",
            "gridcolor": "white",
            "gridwidth": 2,
            "linecolor": "white",
            "showbackground": true,
            "ticks": "",
            "zerolinecolor": "white"
           }
          },
          "shapedefaults": {
           "line": {
            "color": "#2a3f5f"
           }
          },
          "ternary": {
           "aaxis": {
            "gridcolor": "white",
            "linecolor": "white",
            "ticks": ""
           },
           "baxis": {
            "gridcolor": "white",
            "linecolor": "white",
            "ticks": ""
           },
           "bgcolor": "#E5ECF6",
           "caxis": {
            "gridcolor": "white",
            "linecolor": "white",
            "ticks": ""
           }
          },
          "title": {
           "x": 0.05
          },
          "xaxis": {
           "automargin": true,
           "gridcolor": "white",
           "linecolor": "white",
           "ticks": "",
           "title": {
            "standoff": 15
           },
           "zerolinecolor": "white",
           "zerolinewidth": 2
          },
          "yaxis": {
           "automargin": true,
           "gridcolor": "white",
           "linecolor": "white",
           "ticks": "",
           "title": {
            "standoff": 15
           },
           "zerolinecolor": "white",
           "zerolinewidth": 2
          }
         }
        },
        "width": 900,
        "xaxis": {
         "anchor": "y",
         "domain": [
          0,
          0.94
         ],
         "gridcolor": "#1f292f",
         "nticks": 5,
         "rangeslider": {
          "visible": false
         }
        },
        "yaxis": {
         "anchor": "x",
         "domain": [
          0,
          1
         ],
         "gridcolor": "#1f292f"
        },
        "yaxis2": {
         "anchor": "x",
         "gridcolor": "#1f292f",
         "overlaying": "y",
         "side": "right"
        }
       }
      },
      "text/html": [
       "<div>                            <div id=\"ad47c026-e95e-4a69-919c-ac2883d644d2\" class=\"plotly-graph-div\" style=\"height:400px; width:900px;\"></div>            <script type=\"text/javascript\">                require([\"plotly\"], function(Plotly) {                    window.PLOTLYENV=window.PLOTLYENV || {};                                    if (document.getElementById(\"ad47c026-e95e-4a69-919c-ac2883d644d2\")) {                    Plotly.newPlot(                        \"ad47c026-e95e-4a69-919c-ac2883d644d2\",                        [{\"close\":[167.571,167.474,167.265,166.986,166.6,165.854,165.3,165.295,165.262,165.822,165.508,165.444,165.305,164.873,165.454,165.451,164.974,164.907,164.894,165.102,164.973,165.176,164.988,165.088,164.554,164.284,164.377,164.51,164.443,163.068,163.452,163.32,163.182,162.894,163.416,163.244,162.542,162.554,162.151,162.556],\"decreasing\":{\"fillcolor\":\"#CC2E3C\",\"line\":{\"color\":\"#FF3A4C\"}},\"high\":[167.593,167.569,167.493,167.333,167.004,166.614,165.907,165.57,165.69,165.825,165.837,165.574,165.524,165.306,165.818,165.519,165.45,165.13,165.054,165.151,165.143,165.33,165.225,165.186,165.164,164.62,164.562,164.526,164.683,164.529,163.52,163.792,163.336,163.236,163.763,163.434,163.319,162.996,162.682,162.685],\"increasing\":{\"fillcolor\":\"#24A06B\",\"line\":{\"color\":\"#2EC886\"}},\"line\":{\"width\":1},\"low\":[167.382,167.394,167.087,166.863,166.6,165.834,165.19,165.254,165.211,165.252,165.438,165.336,164.932,164.804,164.86,165.34,164.933,164.892,164.828,164.855,164.904,164.979,164.972,164.812,164.397,164.106,164.283,164.254,164.437,163.009,163.034,163.086,162.984,162.861,162.888,163.16,162.459,162.43,162.058,162.094],\"opacity\":1,\"open\":[167.51,167.569,167.472,167.268,166.986,166.6,165.854,165.302,165.294,165.262,165.82,165.506,165.444,165.306,164.872,165.454,165.448,164.973,164.908,164.892,165.025,164.979,165.175,164.988,165.09,164.554,164.284,164.38,164.51,164.442,163.07,163.452,163.32,163.181,162.892,163.416,163.243,162.541,162.554,162.152],\"x\":[\"s22-04-22 01:00\",\"s22-04-22 02:00\",\"s22-04-22 03:00\",\"s22-04-22 04:00\",\"s22-04-22 05:00\",\"s22-04-22 06:00\",\"s22-04-22 07:00\",\"s22-04-22 08:00\",\"s22-04-22 09:00\",\"s22-04-22 10:00\",\"s22-04-22 11:00\",\"s22-04-22 12:00\",\"s22-04-22 13:00\",\"s22-04-22 14:00\",\"s22-04-22 15:00\",\"s22-04-22 16:00\",\"s22-04-22 17:00\",\"s22-04-22 18:00\",\"s22-04-22 19:00\",\"s22-04-22 20:00\",\"s22-04-24 21:00\",\"s22-04-24 22:00\",\"s22-04-24 23:00\",\"s22-04-25 00:00\",\"s22-04-25 01:00\",\"s22-04-25 02:00\",\"s22-04-25 03:00\",\"s22-04-25 04:00\",\"s22-04-25 05:00\",\"s22-04-25 06:00\",\"s22-04-25 07:00\",\"s22-04-25 08:00\",\"s22-04-25 09:00\",\"s22-04-25 10:00\",\"s22-04-25 11:00\",\"s22-04-25 12:00\",\"s22-04-25 13:00\",\"s22-04-25 14:00\",\"s22-04-25 15:00\",\"s22-04-25 16:00\"],\"type\":\"candlestick\"},{\"marker\":{\"color\":\"#0000FF\",\"size\":12},\"mode\":\"markers\",\"x\":[\"s22-04-25 01:00\",\"s22-04-25 15:00\"],\"y\":[164.554,162.151],\"type\":\"scatter\"},{\"marker\":{\"color\":\"#00FF00\",\"size\":12},\"mode\":\"markers\",\"x\":[\"s22-04-25 01:00\",\"s22-04-25 15:00\"],\"y\":[163.75,161.54650000000004],\"type\":\"scatter\"},{\"marker\":{\"color\":\"#FF0000\",\"size\":12},\"mode\":\"markers\",\"x\":[\"s22-04-25 01:00\",\"s22-04-25 15:00\"],\"y\":[165.09,162.554],\"type\":\"scatter\"},{\"line\":{\"shape\":\"spline\",\"width\":2},\"name\":\"EMA_200\",\"x\":[\"s22-04-22 01:00\",\"s22-04-22 02:00\",\"s22-04-22 03:00\",\"s22-04-22 04:00\",\"s22-04-22 05:00\",\"s22-04-22 06:00\",\"s22-04-22 07:00\",\"s22-04-22 08:00\",\"s22-04-22 09:00\",\"s22-04-22 10:00\",\"s22-04-22 11:00\",\"s22-04-22 12:00\",\"s22-04-22 13:00\",\"s22-04-22 14:00\",\"s22-04-22 15:00\",\"s22-04-22 16:00\",\"s22-04-22 17:00\",\"s22-04-22 18:00\",\"s22-04-22 19:00\",\"s22-04-22 20:00\",\"s22-04-24 21:00\",\"s22-04-24 22:00\",\"s22-04-24 23:00\",\"s22-04-25 00:00\",\"s22-04-25 01:00\",\"s22-04-25 02:00\",\"s22-04-25 03:00\",\"s22-04-25 04:00\",\"s22-04-25 05:00\",\"s22-04-25 06:00\",\"s22-04-25 07:00\",\"s22-04-25 08:00\",\"s22-04-25 09:00\",\"s22-04-25 10:00\",\"s22-04-25 11:00\",\"s22-04-25 12:00\",\"s22-04-25 13:00\",\"s22-04-25 14:00\",\"s22-04-25 15:00\",\"s22-04-25 16:00\"],\"y\":[165.5765159194258,165.5953965293612,165.61200964846586,165.62568131585255,165.63537611449837,165.63755149550857,165.6341927451693,165.63081766413652,165.62714780558366,165.62908664962924,165.62788179735256,165.62605211270454,165.62285753835138,165.61539620926493,165.61379026403853,165.61217044763828,165.60582044334149,165.5988669523275,165.59185329711943,165.58697909801631,165.58086980741695,165.57684122219027,165.57098206245607,165.5661762357936,165.5561047578511,165.54344690871667,165.53184038979276,165.52167275258716,165.51093961602504,165.48663159244546,165.4663863645137,165.44502914269293,165.42251128991785,165.39735180782284,165.37763673585016,165.35640638245488,165.32840215978027,165.3007959933743,165.26945454326983,165.24245482803312],\"type\":\"scatter\",\"xaxis\":\"x\",\"yaxis\":\"y\"},{\"line\":{\"shape\":\"spline\",\"width\":2},\"name\":\"RSI_14\",\"x\":[\"s22-04-22 01:00\",\"s22-04-22 02:00\",\"s22-04-22 03:00\",\"s22-04-22 04:00\",\"s22-04-22 05:00\",\"s22-04-22 06:00\",\"s22-04-22 07:00\",\"s22-04-22 08:00\",\"s22-04-22 09:00\",\"s22-04-22 10:00\",\"s22-04-22 11:00\",\"s22-04-22 12:00\",\"s22-04-22 13:00\",\"s22-04-22 14:00\",\"s22-04-22 15:00\",\"s22-04-22 16:00\",\"s22-04-22 17:00\",\"s22-04-22 18:00\",\"s22-04-22 19:00\",\"s22-04-22 20:00\",\"s22-04-24 21:00\",\"s22-04-24 22:00\",\"s22-04-24 23:00\",\"s22-04-25 00:00\",\"s22-04-25 01:00\",\"s22-04-25 02:00\",\"s22-04-25 03:00\",\"s22-04-25 04:00\",\"s22-04-25 05:00\",\"s22-04-25 06:00\",\"s22-04-25 07:00\",\"s22-04-25 08:00\",\"s22-04-25 09:00\",\"s22-04-25 10:00\",\"s22-04-25 11:00\",\"s22-04-25 12:00\",\"s22-04-25 13:00\",\"s22-04-25 14:00\",\"s22-04-25 15:00\",\"s22-04-25 16:00\"],\"y\":[55.805483041934906,53.28246888558108,48.223512965099786,42.43175797983559,35.99130120801698,27.35090660415331,22.945472966261477,22.90960725036716,22.657879914497173,35.59136586321526,32.327051865353326,31.68909384408731,30.29092983977675,26.393338872128,37.9560609398989,37.92293450415818,32.992446526825404,32.35611211925806,32.22623468997058,36.61052376788319,35.09422667350853,39.35111440787161,36.93512546983845,39.07772427081791,32.69063952368231,30.019005840742366,32.07805849573255,35.02250510932937,34.21776965316097,22.69338423066253,29.803768664311505,28.822396142660168,27.792072919043193,25.725259576977038,35.14021975299134,33.62764640378428,28.27770029979665,28.487143313789346,25.765910778831,32.72140984775636],\"type\":\"scatter\",\"xaxis\":\"x\",\"yaxis\":\"y2\"}],                        {\"template\":{\"data\":{\"histogram2dcontour\":[{\"type\":\"histogram2dcontour\",\"colorbar\":{\"outlinewidth\":0,\"ticks\":\"\"},\"colorscale\":[[0.0,\"#0d0887\"],[0.1111111111111111,\"#46039f\"],[0.2222222222222222,\"#7201a8\"],[0.3333333333333333,\"#9c179e\"],[0.4444444444444444,\"#bd3786\"],[0.5555555555555556,\"#d8576b\"],[0.6666666666666666,\"#ed7953\"],[0.7777777777777778,\"#fb9f3a\"],[0.8888888888888888,\"#fdca26\"],[1.0,\"#f0f921\"]]}],\"choropleth\":[{\"type\":\"choropleth\",\"colorbar\":{\"outlinewidth\":0,\"ticks\":\"\"}}],\"histogram2d\":[{\"type\":\"histogram2d\",\"colorbar\":{\"outlinewidth\":0,\"ticks\":\"\"},\"colorscale\":[[0.0,\"#0d0887\"],[0.1111111111111111,\"#46039f\"],[0.2222222222222222,\"#7201a8\"],[0.3333333333333333,\"#9c179e\"],[0.4444444444444444,\"#bd3786\"],[0.5555555555555556,\"#d8576b\"],[0.6666666666666666,\"#ed7953\"],[0.7777777777777778,\"#fb9f3a\"],[0.8888888888888888,\"#fdca26\"],[1.0,\"#f0f921\"]]}],\"heatmap\":[{\"type\":\"heatmap\",\"colorbar\":{\"outlinewidth\":0,\"ticks\":\"\"},\"colorscale\":[[0.0,\"#0d0887\"],[0.1111111111111111,\"#46039f\"],[0.2222222222222222,\"#7201a8\"],[0.3333333333333333,\"#9c179e\"],[0.4444444444444444,\"#bd3786\"],[0.5555555555555556,\"#d8576b\"],[0.6666666666666666,\"#ed7953\"],[0.7777777777777778,\"#fb9f3a\"],[0.8888888888888888,\"#fdca26\"],[1.0,\"#f0f921\"]]}],\"heatmapgl\":[{\"type\":\"heatmapgl\",\"colorbar\":{\"outlinewidth\":0,\"ticks\":\"\"},\"colorscale\":[[0.0,\"#0d0887\"],[0.1111111111111111,\"#46039f\"],[0.2222222222222222,\"#7201a8\"],[0.3333333333333333,\"#9c179e\"],[0.4444444444444444,\"#bd3786\"],[0.5555555555555556,\"#d8576b\"],[0.6666666666666666,\"#ed7953\"],[0.7777777777777778,\"#fb9f3a\"],[0.8888888888888888,\"#fdca26\"],[1.0,\"#f0f921\"]]}],\"contourcarpet\":[{\"type\":\"contourcarpet\",\"colorbar\":{\"outlinewidth\":0,\"ticks\":\"\"}}],\"contour\":[{\"type\":\"contour\",\"colorbar\":{\"outlinewidth\":0,\"ticks\":\"\"},\"colorscale\":[[0.0,\"#0d0887\"],[0.1111111111111111,\"#46039f\"],[0.2222222222222222,\"#7201a8\"],[0.3333333333333333,\"#9c179e\"],[0.4444444444444444,\"#bd3786\"],[0.5555555555555556,\"#d8576b\"],[0.6666666666666666,\"#ed7953\"],[0.7777777777777778,\"#fb9f3a\"],[0.8888888888888888,\"#fdca26\"],[1.0,\"#f0f921\"]]}],\"surface\":[{\"type\":\"surface\",\"colorbar\":{\"outlinewidth\":0,\"ticks\":\"\"},\"colorscale\":[[0.0,\"#0d0887\"],[0.1111111111111111,\"#46039f\"],[0.2222222222222222,\"#7201a8\"],[0.3333333333333333,\"#9c179e\"],[0.4444444444444444,\"#bd3786\"],[0.5555555555555556,\"#d8576b\"],[0.6666666666666666,\"#ed7953\"],[0.7777777777777778,\"#fb9f3a\"],[0.8888888888888888,\"#fdca26\"],[1.0,\"#f0f921\"]]}],\"mesh3d\":[{\"type\":\"mesh3d\",\"colorbar\":{\"outlinewidth\":0,\"ticks\":\"\"}}],\"scatter\":[{\"fillpattern\":{\"fillmode\":\"overlay\",\"size\":10,\"solidity\":0.2},\"type\":\"scatter\"}],\"parcoords\":[{\"type\":\"parcoords\",\"line\":{\"colorbar\":{\"outlinewidth\":0,\"ticks\":\"\"}}}],\"scatterpolargl\":[{\"type\":\"scatterpolargl\",\"marker\":{\"colorbar\":{\"outlinewidth\":0,\"ticks\":\"\"}}}],\"bar\":[{\"error_x\":{\"color\":\"#2a3f5f\"},\"error_y\":{\"color\":\"#2a3f5f\"},\"marker\":{\"line\":{\"color\":\"#E5ECF6\",\"width\":0.5},\"pattern\":{\"fillmode\":\"overlay\",\"size\":10,\"solidity\":0.2}},\"type\":\"bar\"}],\"scattergeo\":[{\"type\":\"scattergeo\",\"marker\":{\"colorbar\":{\"outlinewidth\":0,\"ticks\":\"\"}}}],\"scatterpolar\":[{\"type\":\"scatterpolar\",\"marker\":{\"colorbar\":{\"outlinewidth\":0,\"ticks\":\"\"}}}],\"histogram\":[{\"marker\":{\"pattern\":{\"fillmode\":\"overlay\",\"size\":10,\"solidity\":0.2}},\"type\":\"histogram\"}],\"scattergl\":[{\"type\":\"scattergl\",\"marker\":{\"colorbar\":{\"outlinewidth\":0,\"ticks\":\"\"}}}],\"scatter3d\":[{\"type\":\"scatter3d\",\"line\":{\"colorbar\":{\"outlinewidth\":0,\"ticks\":\"\"}},\"marker\":{\"colorbar\":{\"outlinewidth\":0,\"ticks\":\"\"}}}],\"scattermapbox\":[{\"type\":\"scattermapbox\",\"marker\":{\"colorbar\":{\"outlinewidth\":0,\"ticks\":\"\"}}}],\"scatterternary\":[{\"type\":\"scatterternary\",\"marker\":{\"colorbar\":{\"outlinewidth\":0,\"ticks\":\"\"}}}],\"scattercarpet\":[{\"type\":\"scattercarpet\",\"marker\":{\"colorbar\":{\"outlinewidth\":0,\"ticks\":\"\"}}}],\"carpet\":[{\"aaxis\":{\"endlinecolor\":\"#2a3f5f\",\"gridcolor\":\"white\",\"linecolor\":\"white\",\"minorgridcolor\":\"white\",\"startlinecolor\":\"#2a3f5f\"},\"baxis\":{\"endlinecolor\":\"#2a3f5f\",\"gridcolor\":\"white\",\"linecolor\":\"white\",\"minorgridcolor\":\"white\",\"startlinecolor\":\"#2a3f5f\"},\"type\":\"carpet\"}],\"table\":[{\"cells\":{\"fill\":{\"color\":\"#EBF0F8\"},\"line\":{\"color\":\"white\"}},\"header\":{\"fill\":{\"color\":\"#C8D4E3\"},\"line\":{\"color\":\"white\"}},\"type\":\"table\"}],\"barpolar\":[{\"marker\":{\"line\":{\"color\":\"#E5ECF6\",\"width\":0.5},\"pattern\":{\"fillmode\":\"overlay\",\"size\":10,\"solidity\":0.2}},\"type\":\"barpolar\"}],\"pie\":[{\"automargin\":true,\"type\":\"pie\"}]},\"layout\":{\"autotypenumbers\":\"strict\",\"colorway\":[\"#636efa\",\"#EF553B\",\"#00cc96\",\"#ab63fa\",\"#FFA15A\",\"#19d3f3\",\"#FF6692\",\"#B6E880\",\"#FF97FF\",\"#FECB52\"],\"font\":{\"color\":\"#2a3f5f\"},\"hovermode\":\"closest\",\"hoverlabel\":{\"align\":\"left\"},\"paper_bgcolor\":\"white\",\"plot_bgcolor\":\"#E5ECF6\",\"polar\":{\"bgcolor\":\"#E5ECF6\",\"angularaxis\":{\"gridcolor\":\"white\",\"linecolor\":\"white\",\"ticks\":\"\"},\"radialaxis\":{\"gridcolor\":\"white\",\"linecolor\":\"white\",\"ticks\":\"\"}},\"ternary\":{\"bgcolor\":\"#E5ECF6\",\"aaxis\":{\"gridcolor\":\"white\",\"linecolor\":\"white\",\"ticks\":\"\"},\"baxis\":{\"gridcolor\":\"white\",\"linecolor\":\"white\",\"ticks\":\"\"},\"caxis\":{\"gridcolor\":\"white\",\"linecolor\":\"white\",\"ticks\":\"\"}},\"coloraxis\":{\"colorbar\":{\"outlinewidth\":0,\"ticks\":\"\"}},\"colorscale\":{\"sequential\":[[0.0,\"#0d0887\"],[0.1111111111111111,\"#46039f\"],[0.2222222222222222,\"#7201a8\"],[0.3333333333333333,\"#9c179e\"],[0.4444444444444444,\"#bd3786\"],[0.5555555555555556,\"#d8576b\"],[0.6666666666666666,\"#ed7953\"],[0.7777777777777778,\"#fb9f3a\"],[0.8888888888888888,\"#fdca26\"],[1.0,\"#f0f921\"]],\"sequentialminus\":[[0.0,\"#0d0887\"],[0.1111111111111111,\"#46039f\"],[0.2222222222222222,\"#7201a8\"],[0.3333333333333333,\"#9c179e\"],[0.4444444444444444,\"#bd3786\"],[0.5555555555555556,\"#d8576b\"],[0.6666666666666666,\"#ed7953\"],[0.7777777777777778,\"#fb9f3a\"],[0.8888888888888888,\"#fdca26\"],[1.0,\"#f0f921\"]],\"diverging\":[[0,\"#8e0152\"],[0.1,\"#c51b7d\"],[0.2,\"#de77ae\"],[0.3,\"#f1b6da\"],[0.4,\"#fde0ef\"],[0.5,\"#f7f7f7\"],[0.6,\"#e6f5d0\"],[0.7,\"#b8e186\"],[0.8,\"#7fbc41\"],[0.9,\"#4d9221\"],[1,\"#276419\"]]},\"xaxis\":{\"gridcolor\":\"white\",\"linecolor\":\"white\",\"ticks\":\"\",\"title\":{\"standoff\":15},\"zerolinecolor\":\"white\",\"automargin\":true,\"zerolinewidth\":2},\"yaxis\":{\"gridcolor\":\"white\",\"linecolor\":\"white\",\"ticks\":\"\",\"title\":{\"standoff\":15},\"zerolinecolor\":\"white\",\"automargin\":true,\"zerolinewidth\":2},\"scene\":{\"xaxis\":{\"backgroundcolor\":\"#E5ECF6\",\"gridcolor\":\"white\",\"linecolor\":\"white\",\"showbackground\":true,\"ticks\":\"\",\"zerolinecolor\":\"white\",\"gridwidth\":2},\"yaxis\":{\"backgroundcolor\":\"#E5ECF6\",\"gridcolor\":\"white\",\"linecolor\":\"white\",\"showbackground\":true,\"ticks\":\"\",\"zerolinecolor\":\"white\",\"gridwidth\":2},\"zaxis\":{\"backgroundcolor\":\"#E5ECF6\",\"gridcolor\":\"white\",\"linecolor\":\"white\",\"showbackground\":true,\"ticks\":\"\",\"zerolinecolor\":\"white\",\"gridwidth\":2}},\"shapedefaults\":{\"line\":{\"color\":\"#2a3f5f\"}},\"annotationdefaults\":{\"arrowcolor\":\"#2a3f5f\",\"arrowhead\":0,\"arrowwidth\":1},\"geo\":{\"bgcolor\":\"white\",\"landcolor\":\"#E5ECF6\",\"subunitcolor\":\"white\",\"showland\":true,\"showlakes\":true,\"lakecolor\":\"white\"},\"title\":{\"x\":0.05},\"mapbox\":{\"style\":\"light\"}}},\"xaxis\":{\"anchor\":\"y\",\"domain\":[0.0,0.94],\"rangeslider\":{\"visible\":false},\"gridcolor\":\"#1f292f\",\"nticks\":5},\"yaxis\":{\"anchor\":\"x\",\"domain\":[0.0,1.0],\"gridcolor\":\"#1f292f\"},\"yaxis2\":{\"anchor\":\"x\",\"overlaying\":\"y\",\"side\":\"right\",\"gridcolor\":\"#1f292f\"},\"margin\":{\"l\":10,\"r\":10,\"b\":10,\"t\":10},\"font\":{\"size\":8,\"color\":\"#e1e1e1\"},\"width\":900,\"height\":400,\"paper_bgcolor\":\"#2c303c\",\"plot_bgcolor\":\"#2c303c\"},                        {\"responsive\": true}                    ).then(function(){\n",
       "                            \n",
       "var gd = document.getElementById('ad47c026-e95e-4a69-919c-ac2883d644d2');\n",
       "var x = new MutationObserver(function (mutations, observer) {{\n",
       "        var display = window.getComputedStyle(gd).display;\n",
       "        if (!display || display === 'none') {{\n",
       "            console.log([gd, 'removed!']);\n",
       "            Plotly.purge(gd);\n",
       "            observer.disconnect();\n",
       "        }}\n",
       "}});\n",
       "\n",
       "// Listen for the removal of the full notebook cells\n",
       "var notebookContainer = gd.closest('#notebook-container');\n",
       "if (notebookContainer) {{\n",
       "    x.observe(notebookContainer, {childList: true});\n",
       "}}\n",
       "\n",
       "// Listen for the clearing of the current output cell\n",
       "var outputEl = gd.closest('.output');\n",
       "if (outputEl) {{\n",
       "    x.observe(outputEl, {childList: true});\n",
       "}}\n",
       "\n",
       "                        })                };                });            </script>        </div>"
      ]
     },
     "metadata": {},
     "output_type": "display_data"
    }
   ],
   "source": [
    "df_plot = df_slim.iloc[960:1000]\n",
    "cp = CandlePlot(df_plot, candles=True)\n",
    "\n",
    "trades = cp.df_plot[df_plot.SIGNAL != NONE]\n",
    "\n",
    "markers = ['mid_c', 'TP', 'SL']\n",
    "marker_colors = ['#0000FF', '#00FF00', '#FF0000']\n",
    "\n",
    "for i in range(3):\n",
    "    cp.fig.add_trace(go.Scatter(\n",
    "        x = trades.sTime,\n",
    "        y = trades[markers[i]],\n",
    "        mode = 'markers',\n",
    "        marker=dict(color=marker_colors[i], size=12)\n",
    "    ))\n",
    "    \n",
    "cp.show_plot(line_traces=['EMA_200'], sec_traces=['RSI_14'])"
   ]
  },
  {
   "cell_type": "code",
   "execution_count": 31,
   "id": "8b99a0ea",
   "metadata": {},
   "outputs": [],
   "source": [
    "class Trade:\n",
    "    def __init__(self, row):\n",
    "        self.running = True\n",
    "    \n",
    "    def close_trade(self, row):\n",
    "        pass\n",
    "    \n",
    "    def update(self, row):\n",
    "        pass\n",
    "    "
   ]
  },
  {
   "cell_type": "code",
   "execution_count": null,
   "id": "64891e1b",
   "metadata": {},
   "outputs": [],
   "source": [
    "open_trades = []\n",
    "close_trades = []\n",
    "\n",
    "for index, row in df_slim.iterrows():\n",
    "    for ot in open_trades:\n",
    "        ot.update(row)\n",
    "        if ot.running == False:\n",
    "            closed_trades.append(ot)\n",
    "    open_trades = [x for x in open_trades if x.running == True]\n",
    "    \n",
    "    if row.SIGNAL != NONE:\n",
    "        pass # add new trade"
   ]
  },
  {
   "cell_type": "code",
   "execution_count": null,
   "id": "3a18d703",
   "metadata": {},
   "outputs": [],
   "source": []
  },
  {
   "cell_type": "code",
   "execution_count": null,
   "id": "83ab4065",
   "metadata": {},
   "outputs": [],
   "source": []
  }
 ],
 "metadata": {
  "kernelspec": {
   "display_name": "Python 3 (ipykernel)",
   "language": "python",
   "name": "python3"
  },
  "language_info": {
   "codemirror_mode": {
    "name": "ipython",
    "version": 3
   },
   "file_extension": ".py",
   "mimetype": "text/x-python",
   "name": "python",
   "nbconvert_exporter": "python",
   "pygments_lexer": "ipython3",
   "version": "3.11.2"
  }
 },
 "nbformat": 4,
 "nbformat_minor": 5
}
