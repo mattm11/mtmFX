{
 "cells": [
  {
   "cell_type": "code",
   "execution_count": 1,
   "id": "d45bb3a8",
   "metadata": {},
   "outputs": [],
   "source": [
    "import sys\n",
    "sys.path.append(\"../\")"
   ]
  },
  {
   "cell_type": "code",
   "execution_count": 2,
   "id": "2276616b",
   "metadata": {},
   "outputs": [],
   "source": [
    "import pandas as pd\n",
    "import datetime as dt\n",
    "from technicals.indicators import MACD\n",
    "from simulation.guru_tester import GuruTester"
   ]
  },
  {
   "cell_type": "code",
   "execution_count": 3,
   "id": "a0d4271d",
   "metadata": {},
   "outputs": [],
   "source": [
    "BUY = 1\n",
    "SELL = -1\n",
    "NONE = 0\n",
    "\n",
    "def apply_signal(row):\n",
    "    if row.direction == BUY and row.mid_l > row.EMA_100 and row.candle_dir == BUY:\n",
    "        return BUY\n",
    "    if row.direction == SELL and row.mid_h < row.EMA_100 and row.candle_dir == SELL:\n",
    "        return SELL\n",
    "    return NONE        "
   ]
  },
  {
   "cell_type": "code",
   "execution_count": 4,
   "id": "bee28318",
   "metadata": {},
   "outputs": [],
   "source": [
    "pair = \"EUR_USD\"\n",
    "df_an = pd.read_pickle(f\"../data/{pair}_H1.pkl\")\n",
    "df_m5 = pd.read_pickle(f\"../data/{pair}_M5.pkl\")\n",
    "df_an.reset_index(drop=True, inplace=True)\n",
    "df_m5.reset_index(drop=True, inplace=True)"
   ]
  },
  {
   "cell_type": "code",
   "execution_count": 5,
   "id": "5cb3d8ff",
   "metadata": {},
   "outputs": [],
   "source": [
    "df_an = MACD(df_an)\n",
    "df_an['EMA_100'] = df_an.mid_c.ewm(span=100, min_periods=100).mean()\n",
    "df_an.dropna(inplace=True)\n",
    "df_an.reset_index(drop=True, inplace=True)"
   ]
  },
  {
   "cell_type": "code",
   "execution_count": 6,
   "id": "73107dd0",
   "metadata": {},
   "outputs": [],
   "source": [
    "def apply_cross(row):\n",
    "    if row.macd_delta > 0  and row.macd_delta_prev < 0:\n",
    "        return BUY\n",
    "    if row.macd_delta < 0  and row.macd_delta_prev > 0:\n",
    "        return SELL\n",
    "    return NONE"
   ]
  },
  {
   "cell_type": "code",
   "execution_count": 7,
   "id": "a23c78d5",
   "metadata": {},
   "outputs": [],
   "source": [
    "df_an['macd_delta'] = df_an.MACD - df_an.SIGNAL\n",
    "df_an['macd_delta_prev'] = df_an.macd_delta.shift(1)\n",
    "df_an['direction'] = df_an.apply(apply_cross, axis=1)\n",
    "\n",
    "candle_dir = df_an.mid_c - df_an.mid_o\n",
    "df_an['candle_dir'] = [BUY if x >= 0 else SELL for x in candle_dir]"
   ]
  },
  {
   "cell_type": "code",
   "execution_count": 8,
   "id": "c3de9109",
   "metadata": {},
   "outputs": [
    {
     "data": {
      "text/plain": [
       " 0    40452\n",
       "-1     1752\n",
       " 1     1752\n",
       "Name: direction, dtype: int64"
      ]
     },
     "execution_count": 8,
     "metadata": {},
     "output_type": "execute_result"
    }
   ],
   "source": [
    "df_an.direction.value_counts()"
   ]
  },
  {
   "cell_type": "code",
   "execution_count": 9,
   "id": "fe8150da",
   "metadata": {},
   "outputs": [
    {
     "data": {
      "text/html": [
       "<div>\n",
       "<style scoped>\n",
       "    .dataframe tbody tr th:only-of-type {\n",
       "        vertical-align: middle;\n",
       "    }\n",
       "\n",
       "    .dataframe tbody tr th {\n",
       "        vertical-align: top;\n",
       "    }\n",
       "\n",
       "    .dataframe thead th {\n",
       "        text-align: right;\n",
       "    }\n",
       "</style>\n",
       "<table border=\"1\" class=\"dataframe\">\n",
       "  <thead>\n",
       "    <tr style=\"text-align: right;\">\n",
       "      <th></th>\n",
       "      <th>time</th>\n",
       "      <th>volume</th>\n",
       "      <th>mid_o</th>\n",
       "      <th>mid_h</th>\n",
       "      <th>mid_l</th>\n",
       "      <th>mid_c</th>\n",
       "      <th>bid_o</th>\n",
       "      <th>bid_h</th>\n",
       "      <th>bid_l</th>\n",
       "      <th>bid_c</th>\n",
       "      <th>...</th>\n",
       "      <th>ask_l</th>\n",
       "      <th>ask_c</th>\n",
       "      <th>MACD</th>\n",
       "      <th>SIGNAL</th>\n",
       "      <th>HIST</th>\n",
       "      <th>EMA_100</th>\n",
       "      <th>macd_delta</th>\n",
       "      <th>macd_delta_prev</th>\n",
       "      <th>direction</th>\n",
       "      <th>candle_dir</th>\n",
       "    </tr>\n",
       "  </thead>\n",
       "  <tbody>\n",
       "    <tr>\n",
       "      <th>0</th>\n",
       "      <td>2016-01-08 01:00:00+00:00</td>\n",
       "      <td>5607</td>\n",
       "      <td>1.09180</td>\n",
       "      <td>1.09230</td>\n",
       "      <td>1.08717</td>\n",
       "      <td>1.08844</td>\n",
       "      <td>1.09171</td>\n",
       "      <td>1.09214</td>\n",
       "      <td>1.08707</td>\n",
       "      <td>1.08833</td>\n",
       "      <td>...</td>\n",
       "      <td>1.08727</td>\n",
       "      <td>1.08854</td>\n",
       "      <td>0.003176</td>\n",
       "      <td>0.003140</td>\n",
       "      <td>0.000036</td>\n",
       "      <td>1.081957</td>\n",
       "      <td>0.000036</td>\n",
       "      <td>NaN</td>\n",
       "      <td>0</td>\n",
       "      <td>-1</td>\n",
       "    </tr>\n",
       "    <tr>\n",
       "      <th>1</th>\n",
       "      <td>2016-01-08 02:00:00+00:00</td>\n",
       "      <td>1261</td>\n",
       "      <td>1.08848</td>\n",
       "      <td>1.08906</td>\n",
       "      <td>1.08760</td>\n",
       "      <td>1.08872</td>\n",
       "      <td>1.08838</td>\n",
       "      <td>1.08898</td>\n",
       "      <td>1.08752</td>\n",
       "      <td>1.08863</td>\n",
       "      <td>...</td>\n",
       "      <td>1.08769</td>\n",
       "      <td>1.08880</td>\n",
       "      <td>0.002873</td>\n",
       "      <td>0.003086</td>\n",
       "      <td>-0.000214</td>\n",
       "      <td>1.082112</td>\n",
       "      <td>-0.000214</td>\n",
       "      <td>0.000036</td>\n",
       "      <td>-1</td>\n",
       "      <td>1</td>\n",
       "    </tr>\n",
       "    <tr>\n",
       "      <th>2</th>\n",
       "      <td>2016-01-08 03:00:00+00:00</td>\n",
       "      <td>604</td>\n",
       "      <td>1.08870</td>\n",
       "      <td>1.08894</td>\n",
       "      <td>1.08800</td>\n",
       "      <td>1.08842</td>\n",
       "      <td>1.08861</td>\n",
       "      <td>1.08885</td>\n",
       "      <td>1.08792</td>\n",
       "      <td>1.08833</td>\n",
       "      <td>...</td>\n",
       "      <td>1.08809</td>\n",
       "      <td>1.08850</td>\n",
       "      <td>0.002578</td>\n",
       "      <td>0.002985</td>\n",
       "      <td>-0.000406</td>\n",
       "      <td>1.082255</td>\n",
       "      <td>-0.000406</td>\n",
       "      <td>-0.000214</td>\n",
       "      <td>0</td>\n",
       "      <td>-1</td>\n",
       "    </tr>\n",
       "    <tr>\n",
       "      <th>3</th>\n",
       "      <td>2016-01-08 04:00:00+00:00</td>\n",
       "      <td>543</td>\n",
       "      <td>1.08844</td>\n",
       "      <td>1.08844</td>\n",
       "      <td>1.08722</td>\n",
       "      <td>1.08740</td>\n",
       "      <td>1.08836</td>\n",
       "      <td>1.08836</td>\n",
       "      <td>1.08713</td>\n",
       "      <td>1.08733</td>\n",
       "      <td>...</td>\n",
       "      <td>1.08731</td>\n",
       "      <td>1.08748</td>\n",
       "      <td>0.002237</td>\n",
       "      <td>0.002835</td>\n",
       "      <td>-0.000598</td>\n",
       "      <td>1.082372</td>\n",
       "      <td>-0.000598</td>\n",
       "      <td>-0.000406</td>\n",
       "      <td>0</td>\n",
       "      <td>-1</td>\n",
       "    </tr>\n",
       "    <tr>\n",
       "      <th>4</th>\n",
       "      <td>2016-01-08 05:00:00+00:00</td>\n",
       "      <td>851</td>\n",
       "      <td>1.08743</td>\n",
       "      <td>1.08853</td>\n",
       "      <td>1.08734</td>\n",
       "      <td>1.08782</td>\n",
       "      <td>1.08734</td>\n",
       "      <td>1.08844</td>\n",
       "      <td>1.08725</td>\n",
       "      <td>1.08774</td>\n",
       "      <td>...</td>\n",
       "      <td>1.08742</td>\n",
       "      <td>1.08790</td>\n",
       "      <td>0.001977</td>\n",
       "      <td>0.002664</td>\n",
       "      <td>-0.000686</td>\n",
       "      <td>1.082495</td>\n",
       "      <td>-0.000686</td>\n",
       "      <td>-0.000598</td>\n",
       "      <td>0</td>\n",
       "      <td>1</td>\n",
       "    </tr>\n",
       "  </tbody>\n",
       "</table>\n",
       "<p>5 rows × 22 columns</p>\n",
       "</div>"
      ],
      "text/plain": [
       "                       time  volume    mid_o    mid_h    mid_l    mid_c  \\\n",
       "0 2016-01-08 01:00:00+00:00    5607  1.09180  1.09230  1.08717  1.08844   \n",
       "1 2016-01-08 02:00:00+00:00    1261  1.08848  1.08906  1.08760  1.08872   \n",
       "2 2016-01-08 03:00:00+00:00     604  1.08870  1.08894  1.08800  1.08842   \n",
       "3 2016-01-08 04:00:00+00:00     543  1.08844  1.08844  1.08722  1.08740   \n",
       "4 2016-01-08 05:00:00+00:00     851  1.08743  1.08853  1.08734  1.08782   \n",
       "\n",
       "     bid_o    bid_h    bid_l    bid_c  ...    ask_l    ask_c      MACD  \\\n",
       "0  1.09171  1.09214  1.08707  1.08833  ...  1.08727  1.08854  0.003176   \n",
       "1  1.08838  1.08898  1.08752  1.08863  ...  1.08769  1.08880  0.002873   \n",
       "2  1.08861  1.08885  1.08792  1.08833  ...  1.08809  1.08850  0.002578   \n",
       "3  1.08836  1.08836  1.08713  1.08733  ...  1.08731  1.08748  0.002237   \n",
       "4  1.08734  1.08844  1.08725  1.08774  ...  1.08742  1.08790  0.001977   \n",
       "\n",
       "     SIGNAL      HIST   EMA_100  macd_delta  macd_delta_prev  direction  \\\n",
       "0  0.003140  0.000036  1.081957    0.000036              NaN          0   \n",
       "1  0.003086 -0.000214  1.082112   -0.000214         0.000036         -1   \n",
       "2  0.002985 -0.000406  1.082255   -0.000406        -0.000214          0   \n",
       "3  0.002835 -0.000598  1.082372   -0.000598        -0.000406          0   \n",
       "4  0.002664 -0.000686  1.082495   -0.000686        -0.000598          0   \n",
       "\n",
       "   candle_dir  \n",
       "0          -1  \n",
       "1           1  \n",
       "2          -1  \n",
       "3          -1  \n",
       "4           1  \n",
       "\n",
       "[5 rows x 22 columns]"
      ]
     },
     "execution_count": 9,
     "metadata": {},
     "output_type": "execute_result"
    }
   ],
   "source": [
    "df_an.head()"
   ]
  },
  {
   "cell_type": "code",
   "execution_count": 10,
   "id": "314355c3",
   "metadata": {},
   "outputs": [],
   "source": [
    "def run_pair(pair, time_d=1):\n",
    "    df_an = pd.read_pickle(f\"../data/{pair}_H{time_d}.pkl\")\n",
    "    df_m5 = pd.read_pickle(f\"../data/{pair}_M5.pkl\")\n",
    "    df_an.reset_index(drop=True, inplace=True)\n",
    "    df_m5.reset_index(drop=True, inplace=True)\n",
    "    df_an = MACD(df_an)\n",
    "    df_an['EMA_100'] = df_an.mid_c.ewm(span=100, min_periods=100).mean()\n",
    "    \n",
    "    df_an['macd_delta'] = df_an.MACD - df_an.SIGNAL\n",
    "    df_an['macd_delta_prev'] = df_an.macd_delta.shift(1)\n",
    "    df_an['direction'] = df_an.apply(apply_cross, axis=1)\n",
    "    candle_dir = df_an.mid_c - df_an.mid_o\n",
    "    df_an['candle_dir'] = [1 if x >= 0 else -1 for x in candle_dir]\n",
    "    \n",
    "    our_cols = ['time', 'mid_o', 'mid_h', 'mid_l', 'mid_c',\n",
    "            'bid_o', 'bid_h', 'bid_l', 'bid_c', \n",
    "            'ask_o', 'ask_h', 'ask_l', 'ask_c',\n",
    "             'direction', 'candle_dir', 'EMA_100' ]\n",
    "    df_slim = df_an[our_cols].copy()\n",
    "    df_slim.dropna(inplace=True)\n",
    "    \n",
    "    df_slim.reset_index(drop=True, inplace=True)\n",
    "    gt = GuruTester(\n",
    "        df_slim,\n",
    "        apply_signal,\n",
    "        df_m5,\n",
    "        use_spread=True,\n",
    "        time_d=time_d\n",
    "    )\n",
    "    \n",
    "    gt.run_test()\n",
    "    return gt.df_results\n",
    "    "
   ]
  },
  {
   "cell_type": "code",
   "execution_count": null,
   "id": "c66cb656",
   "metadata": {},
   "outputs": [],
   "source": []
  },
  {
   "cell_type": "code",
   "execution_count": 11,
   "id": "36fab442",
   "metadata": {},
   "outputs": [],
   "source": [
    "res = []\n",
    "for p in [\"AUD_NZD\", \"EUR_USD\", \"GBP_JPY\", \"USD_CAD\" ]:\n",
    "    res.append(dict(pair=p,res=run_pair(p, time_d=1)))"
   ]
  },
  {
   "cell_type": "code",
   "execution_count": 12,
   "id": "d9b1f5f0",
   "metadata": {},
   "outputs": [
    {
     "name": "stdout",
     "output_type": "stream",
     "text": [
      "AUD_NZD -578.0\n",
      "EUR_USD -200.0\n",
      "GBP_JPY -126.0\n",
      "USD_CAD -240.5\n"
     ]
    }
   ],
   "source": [
    "for r in res:\n",
    "    print(r['pair'], r['res'].result.sum())"
   ]
  },
  {
   "cell_type": "code",
   "execution_count": 13,
   "id": "990d4bde",
   "metadata": {},
   "outputs": [
    {
     "name": "stdout",
     "output_type": "stream",
     "text": [
      "AUD_NZD -84.5\n",
      "EUR_USD -25.5\n",
      "GBP_JPY 6.5\n",
      "USD_CAD -62.5\n"
     ]
    }
   ],
   "source": [
    "res = []\n",
    "for p in [\"AUD_NZD\", \"EUR_USD\", \"GBP_JPY\", \"USD_CAD\" ]:\n",
    "    res.append(dict(pair=p,res=run_pair(p, time_d=4)))\n",
    "for r in res:\n",
    "    print(r['pair'], r['res'].result.sum())"
   ]
  },
  {
   "cell_type": "code",
   "execution_count": null,
   "id": "3f968cf3",
   "metadata": {},
   "outputs": [],
   "source": []
  },
  {
   "cell_type": "code",
   "execution_count": null,
   "id": "a211c19c",
   "metadata": {},
   "outputs": [],
   "source": []
  }
 ],
 "metadata": {
  "kernelspec": {
   "display_name": "Python 3 (ipykernel)",
   "language": "python",
   "name": "python3"
  },
  "language_info": {
   "codemirror_mode": {
    "name": "ipython",
    "version": 3
   },
   "file_extension": ".py",
   "mimetype": "text/x-python",
   "name": "python",
   "nbconvert_exporter": "python",
   "pygments_lexer": "ipython3",
   "version": "3.11.2"
  }
 },
 "nbformat": 4,
 "nbformat_minor": 5
}
